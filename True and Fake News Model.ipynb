{
 "cells": [
  {
   "cell_type": "code",
   "execution_count": 1,
   "id": "ee61b9f5-6d55-48f6-a619-76be7f7447cf",
   "metadata": {},
   "outputs": [
    {
     "name": "stdout",
     "output_type": "stream",
     "text": [
      "                                               title  \\\n",
      "0   BREAKING: GOP Chairman Grassley Has Had Enoug...   \n",
      "1   Failed GOP Candidates Remembered In Hilarious...   \n",
      "2   Mike Pence’s New DC Neighbors Are HILARIOUSLY...   \n",
      "3  California AG pledges to defend birth control ...   \n",
      "4  AZ RANCHERS Living On US-Mexico Border Destroy...   \n",
      "\n",
      "                                                text  label  \n",
      "0  Donald Trump s White House is in chaos, and th...      1  \n",
      "1  Now that Donald Trump is the presumptive GOP n...      1  \n",
      "2  Mike Pence is a huge homophobe. He supports ex...      1  \n",
      "3  SAN FRANCISCO (Reuters) - California Attorney ...      0  \n",
      "4  Twisted reasoning is all that comes from Pelos...      1  \n",
      "                                          clean_text  label\n",
      "0  breaking gop chairman grassley has had enough ...      1\n",
      "1  failed gop candidates remembered in hilarious ...      1\n",
      "2  mike pence’s new dc neighbors are hilariously ...      1\n",
      "3  california ag pledges to defend birth control ...      0\n",
      "4  az ranchers living on usmexico border destroy ...      1\n"
     ]
    }
   ],
   "source": [
    "# Import necessary libraries for data handling\n",
    "import pandas as pd\n",
    "import numpy as np\n",
    "import re\n",
    "import string\n",
    "\n",
    "# Load both datasets containing true and fake news articles\n",
    "true_df = pd.read_csv('True.csv')\n",
    "fake_df = pd.read_csv('Fake.csv')\n",
    "\n",
    "# Add labels to datasets: 0 = True news, 1 = Fake news\n",
    "true_df['label'] = 0\n",
    "fake_df['label'] = 1\n",
    "\n",
    "# Merge both datasets into one dataframe\n",
    "df = pd.concat([true_df, fake_df], ignore_index=True)\n",
    "\n",
    "# Shuffle rows randomly to avoid any bias\n",
    "df = df.sample(frac=1, random_state=42).reset_index(drop=True)\n",
    "\n",
    "# Remove columns that are not essential for text classification\n",
    "df.drop(['date', 'subject'], axis=1, inplace=True)\n",
    "\n",
    "# Display first few rows to verify combined data\n",
    "print(df.head())\n",
    "\n",
    "# Function to clean textual data (remove punctuation, symbols, numbers, etc.)\n",
    "def clean_text(text):\n",
    "    text = text.lower()  # Convert text to lowercase\n",
    "    text = re.sub(r'\\[.*?\\]', '', text)  # Remove text inside brackets\n",
    "    text = re.sub(f\"[{re.escape(string.punctuation)}]\", '', text)  # Remove punctuation\n",
    "    text = re.sub(r'\\w*\\d\\w*', '', text)  # Remove words containing numbers\n",
    "    text = re.sub(r'\\s+', ' ', text).strip()  # Remove extra spaces\n",
    "    return text\n",
    "\n",
    "# Combine title and text, then apply the cleaning function\n",
    "df['clean_text'] = df['title'] + \" \" + df['text']\n",
    "df['clean_text'] = df['clean_text'].apply(clean_text)\n",
    "\n",
    "# Check results of text cleaning\n",
    "print(df[['clean_text', 'label']].head())"
   ]
  },
  {
   "cell_type": "code",
   "execution_count": 2,
   "id": "b9cc51f1-38d4-4e7d-8b6e-57e0c652a69e",
   "metadata": {},
   "outputs": [
    {
     "name": "stdout",
     "output_type": "stream",
     "text": [
      "TF-IDF feature vector shape: (44898, 5000)\n"
     ]
    }
   ],
   "source": [
    "# Import library to convert text data into numerical features\n",
    "from sklearn.feature_extraction.text import TfidfVectorizer\n",
    "\n",
    "# Use TF-IDF to transform text data into numerical data (for machine learning)\n",
    "tfidf = TfidfVectorizer(max_features=5000, stop_words='english')\n",
    "\n",
    "# Generate numeric features from cleaned text\n",
    "X = tfidf.fit_transform(df['clean_text']).toarray()\n",
    "\n",
    "# Store the corresponding labels\n",
    "y = df['label'].values\n",
    "\n",
    "# Display shape (rows, columns) of the numerical dataset\n",
    "print(f'TF-IDF feature vector shape: {X.shape}')\n"
   ]
  },
  {
   "cell_type": "code",
   "execution_count": 5,
   "id": "bbecd9b5-28b3-4f56-b4a1-9925d0bd5725",
   "metadata": {},
   "outputs": [
    {
     "name": "stdout",
     "output_type": "stream",
     "text": [
      "Logistic Regression Results:\n",
      "              precision    recall  f1-score   support\n",
      "\n",
      "           0       0.98      0.99      0.99      4311\n",
      "           1       0.99      0.99      0.99      4669\n",
      "\n",
      "    accuracy                           0.99      8980\n",
      "   macro avg       0.99      0.99      0.99      8980\n",
      "weighted avg       0.99      0.99      0.99      8980\n",
      "\n",
      "Confusion Matrix:\n",
      " [[4271   40]\n",
      " [  69 4600]]\n",
      "Accuracy: 0.9878619153674832\n",
      "\n",
      "Random Forest Results:\n",
      "              precision    recall  f1-score   support\n",
      "\n",
      "           0       1.00      1.00      1.00      4311\n",
      "           1       1.00      1.00      1.00      4669\n",
      "\n",
      "    accuracy                           1.00      8980\n",
      "   macro avg       1.00      1.00      1.00      8980\n",
      "weighted avg       1.00      1.00      1.00      8980\n",
      "\n",
      "Confusion Matrix:\n",
      " [[4303    8]\n",
      " [  20 4649]]\n",
      "Accuracy: 0.9968819599109131\n"
     ]
    }
   ],
   "source": [
    "# Import libraries to split dataset and build classification models\n",
    "from sklearn.model_selection import train_test_split\n",
    "from sklearn.linear_model import LogisticRegression\n",
    "from sklearn.ensemble import RandomForestClassifier\n",
    "from sklearn.metrics import classification_report, confusion_matrix, accuracy_score\n",
    "\n",
    "# Split dataset into training (80%) and testing (20%)\n",
    "X_train, X_test, y_train, y_test = train_test_split(\n",
    "    X, y, test_size=0.2, random_state=42\n",
    ")\n",
    "\n",
    "# MODEL 1: Logistic Regression (simple, fast model)\n",
    "log_reg = LogisticRegression(max_iter=1000, random_state=42)\n",
    "log_reg.fit(X_train, y_train)  # Train the logistic regression model\n",
    "y_pred_lr = log_reg.predict(X_test)  # Make predictions on the test set\n",
    "\n",
    "# Display performance of Logistic Regression model\n",
    "print(\"Logistic Regression Results:\")\n",
    "print(classification_report(y_test, y_pred_lr))\n",
    "print(\"Confusion Matrix:\\n\", confusion_matrix(y_test, y_pred_lr))\n",
    "print(\"Accuracy:\", accuracy_score(y_test, y_pred_lr))\n",
    "\n",
    "# MODEL 2: Random Forest (more complex, usually powerful)\n",
    "rf = RandomForestClassifier(n_estimators=100, random_state=42, n_jobs=-1)\n",
    "rf.fit(X_train, y_train)  # Train the random forest model\n",
    "y_pred_rf = rf.predict(X_test)  # Make predictions on the test set\n",
    "\n",
    "# Display performance of Random Forest model\n",
    "print(\"\\nRandom Forest Results:\")\n",
    "print(classification_report(y_test, y_pred_rf))\n",
    "print(\"Confusion Matrix:\\n\", confusion_matrix(y_test, y_pred_rf))\n",
    "print(\"Accuracy:\", accuracy_score(y_test, y_pred_rf))"
   ]
  },
  {
   "cell_type": "code",
   "execution_count": 7,
   "id": "3ebf149a-49bf-46c4-b4a9-4a225a023596",
   "metadata": {},
   "outputs": [
    {
     "data": {
      "text/plain": [
       "['tfidf_vectorizer.pkl']"
      ]
     },
     "execution_count": 7,
     "metadata": {},
     "output_type": "execute_result"
    }
   ],
   "source": [
    "# Import joblib to save models and vectorizer\n",
    "import joblib\n",
    "\n",
    "# Save the best model (assume Logistic Regression was better; change if needed)\n",
    "joblib.dump(log_reg, 'fake_news_detector_model.pkl')\n",
    "\n",
    "# Save the TF-IDF vectorizer as well (necessary for new predictions)\n",
    "joblib.dump(tfidf, 'tfidf_vectorizer.pkl')"
   ]
  },
  {
   "cell_type": "code",
   "execution_count": 9,
   "id": "0285efb1-88f4-40df-adfe-17d363ccd40e",
   "metadata": {},
   "outputs": [
    {
     "name": "stdout",
     "output_type": "stream",
     "text": [
      "Cross-validation accuracies: [0.98730512 0.98775056 0.98652561 0.98585589 0.98808331]\n",
      "Mean cross-validation accuracy: 0.9871\n"
     ]
    }
   ],
   "source": [
    "from sklearn.model_selection import cross_val_score\n",
    "\n",
    "# Evaluate Logistic Regression model using 5-fold cross-validation\n",
    "cross_val_scores = cross_val_score(log_reg, X, y, cv=5, scoring='accuracy', n_jobs=-1)\n",
    "\n",
    "# Output cross-validation results\n",
    "print(f\"Cross-validation accuracies: {cross_val_scores}\")\n",
    "print(f\"Mean cross-validation accuracy: {cross_val_scores.mean():.4f}\")"
   ]
  },
  {
   "cell_type": "code",
   "execution_count": 10,
   "id": "2abba5ac-765b-4bc1-9a04-18f034473b57",
   "metadata": {},
   "outputs": [
    {
     "data": {
      "image/png": "[encoded data removed]",
      "text/plain": [
       "<Figure size 800x600 with 1 Axes>"
      ]
     },
     "metadata": {},
     "output_type": "display_data"
    }
   ],
   "source": [
    "import matplotlib.pyplot as plt\n",
    "from sklearn.metrics import roc_curve, roc_auc_score\n",
    "\n",
    "# Calculate probabilities for ROC curve\n",
    "y_prob_lr = log_reg.predict_proba(X_test)[:, 1]\n",
    "\n",
    "# Compute ROC curve and ROC area\n",
    "fpr, tpr, thresholds = roc_curve(y_test, y_prob_lr)\n",
    "roc_auc = roc_auc_score(y_test, y_prob_lr)\n",
    "\n",
    "# Plot ROC curve\n",
    "plt.figure(figsize=(8, 6))\n",
    "plt.plot(fpr, tpr, label=f'ROC curve (AUC = {roc_auc:.2f})')\n",
    "plt.plot([0, 1], [0, 1], linestyle='--', color='gray')\n",
    "plt.xlabel('False Positive Rate')\n",
    "plt.ylabel('True Positive Rate')\n",
    "plt.title('ROC Curve - Logistic Regression')\n",
    "plt.legend()\n",
    "plt.grid()\n",
    "plt.show()"
   ]
  },
  {
   "cell_type": "code",
   "execution_count": 13,
   "id": "447108b9-488e-4cd0-996c-397dbffb44e4",
   "metadata": {},
   "outputs": [
    {
     "name": "stdout",
     "output_type": "stream",
     "text": [
      "Article: \"Government passes new healthcare reform bill with bipartisan support.\"\n",
      "Prediction: Real News \n",
      "\n",
      "Article: \"Donald Trump secretly negotiating with aliens according to leaked reports!\"\n",
      "Prediction: Fake News \n",
      "\n"
     ]
    }
   ],
   "source": [
    "# Load saved model and vectorizer (just to demonstrate reuse)\n",
    "import joblib\n",
    "model = joblib.load('fake_news_detector_model.pkl')\n",
    "vectorizer = joblib.load('tfidf_vectorizer.pkl')\n",
    "\n",
    "# New (unseen) examples to classify\n",
    "examples = [\n",
    "    \"Government passes new healthcare reform bill with bipartisan support.\",\n",
    "    \"Donald Trump secretly negotiating with aliens according to leaked reports!\"\n",
    "]\n",
    "\n",
    "# Preprocess and predict\n",
    "example_features = vectorizer.transform(examples)\n",
    "predictions = model.predict(example_features)\n",
    "\n",
    "# Display predictions\n",
    "for text, pred in zip(examples, predictions):\n",
    "    print(f'Article: \"{text}\"')\n",
    "    print('Prediction:', 'Fake News' if pred == 1 else 'Real News', '\\n')"
   ]
  },
  {
   "cell_type": "code",
   "execution_count": 15,
   "id": "348bde6c-3dc0-45e8-b5a6-67698bede85f",
   "metadata": {},
   "outputs": [
    {
     "name": "stdout",
     "output_type": "stream",
     "text": [
      "Top 10 words strongly indicating Fake news:\n",
      "just: 6.927\n",
      "image: 6.315\n",
      "gop: 5.980\n",
      "hillary: 5.482\n",
      "breaking: 4.385\n",
      "mr: 4.288\n",
      "video: 4.268\n",
      "images: 4.256\n",
      "wire: 4.118\n",
      "watch: 4.059\n",
      "\n",
      "Top 10 words strongly indicating Real news:\n",
      "reuters: -27.656\n",
      "said: -18.351\n",
      "washington: -6.289\n",
      "wednesday: -5.648\n",
      "tuesday: -5.167\n",
      "thursday: -5.016\n",
      "friday: -4.757\n",
      "republican: -4.533\n",
      "nov: -4.424\n",
      "monday: -3.991\n"
     ]
    }
   ],
   "source": [
    "# Extracting top features indicative of fake/real news\n",
    "feature_names = vectorizer.get_feature_names_out()\n",
    "coef = log_reg.coef_[0]\n",
    "\n",
    "# Top 10 features associated with Fake and True news\n",
    "top_fake_words = sorted(zip(coef, feature_names), reverse=True)[:10]\n",
    "top_true_words = sorted(zip(coef, feature_names))[:10]\n",
    "\n",
    "print(\"Top 10 words strongly indicating Fake news:\")\n",
    "for coef, word in top_fake_words:\n",
    "    print(f\"{word}: {coef:.3f}\")\n",
    "\n",
    "print(\"\\nTop 10 words strongly indicating Real news:\")\n",
    "for coef, word in top_true_words:\n",
    "    print(f\"{word}: {coef:.3f}\")"
   ]
  },
  {
   "cell_type": "code",
   "execution_count": null,
   "id": "46cd0986-c2e0-4775-96f7-a9df60a2dee8",
   "metadata": {},
   "outputs": [],
   "source": []
  }
 ],
 "metadata": {
  "kernelspec": {
   "display_name": "Python 3 (ipykernel)",
   "language": "python",
   "name": "python3"
  },
  "language_info": {
   "codemirror_mode": {
    "name": "ipython",
    "version": 3
   },
   "file_extension": ".py",
   "mimetype": "text/x-python",
   "name": "python",
   "nbconvert_exporter": "python",
   "pygments_lexer": "ipython3",
   "version": "3.11.7"
  }
 },
 "nbformat": 4,
 "nbformat_minor": 5
}
